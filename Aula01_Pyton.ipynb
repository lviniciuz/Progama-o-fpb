{
  "nbformat": 4,
  "nbformat_minor": 0,
  "metadata": {
    "colab": {
      "provenance": [],
      "authorship_tag": "ABX9TyMwLWTpVewv9v6lRJKFBKPr",
      "include_colab_link": true
    },
    "kernelspec": {
      "name": "python3",
      "display_name": "Python 3"
    },
    "language_info": {
      "name": "python"
    }
  },
  "cells": [
    {
      "cell_type": "markdown",
      "metadata": {
        "id": "view-in-github",
        "colab_type": "text"
      },
      "source": [
        "<a href=\"https://colab.research.google.com/github/lviniciuz/Progama-o-fpb/blob/main/Aula01_Pyton.ipynb\" target=\"_parent\"><img src=\"https://colab.research.google.com/assets/colab-badge.svg\" alt=\"Open In Colab\"/></a>"
      ]
    },
    {
      "cell_type": "code",
      "execution_count": 5,
      "metadata": {
        "colab": {
          "base_uri": "https://localhost:8080/"
        },
        "id": "9xCEtXFtucSt",
        "outputId": "a146df31-a644-4589-ab1f-428c0df26c5f"
      },
      "outputs": [
        {
          "output_type": "stream",
          "name": "stdout",
          "text": [
            "Eu vou progamar, geralll!\n"
          ]
        }
      ],
      "source": [
        "print(\"Eu vou progamar, geralll!\");"
      ]
    },
    {
      "cell_type": "code",
      "source": [
        "#Variavéis\n",
        "nome = \"L vinicius\"\n",
        "print(nome)"
      ],
      "metadata": {
        "colab": {
          "base_uri": "https://localhost:8080/"
        },
        "id": "BgAYs0sDwONd",
        "outputId": "ce7945a4-8ce6-4bb6-e4ac-53c2d33dc1ed"
      },
      "execution_count": 6,
      "outputs": [
        {
          "output_type": "stream",
          "name": "stdout",
          "text": [
            "L vinicius\n"
          ]
        }
      ]
    },
    {
      "cell_type": "code",
      "source": [
        "#operações com Variavéis\n",
        "a = 20\n",
        "b = 80\n",
        "soma = a + b\n",
        "subtracao = a - b\n",
        "divisao = a / b\n",
        "multipli = a * b"
      ],
      "metadata": {
        "id": "AvZlJuKWwvHM"
      },
      "execution_count": 9,
      "outputs": []
    },
    {
      "cell_type": "code",
      "source": [
        "print(soma)\n",
        "print(subtracao)\n",
        "print(divisao)\n",
        "print(multipli)"
      ],
      "metadata": {
        "colab": {
          "base_uri": "https://localhost:8080/"
        },
        "id": "JQQzcRCOxJ5x",
        "outputId": "982d4949-62f8-4b74-dfb6-3a053c87f7da"
      },
      "execution_count": 10,
      "outputs": [
        {
          "output_type": "stream",
          "name": "stdout",
          "text": [
            "100\n",
            "-60\n",
            "0.25\n",
            "1600\n"
          ]
        }
      ]
    },
    {
      "cell_type": "code",
      "source": [
        "#operação variavéis\n",
        "a = 5\n",
        "multiplic = a * 2\n",
        "print (multiplic)\n"
      ],
      "metadata": {
        "colab": {
          "base_uri": "https://localhost:8080/"
        },
        "id": "A0fdxslRv_qS",
        "outputId": "e94dd1e1-21bf-40cf-81ea-e6282f3c7c93"
      },
      "execution_count": 15,
      "outputs": [
        {
          "output_type": "stream",
          "name": "stdout",
          "text": [
            "10\n"
          ]
        }
      ]
    },
    {
      "cell_type": "code",
      "source": [
        "#operacão escola\n",
        "n1 = 8\n",
        "n2 = 3\n",
        "n3 = 9\n",
        "\n",
        "media = (n1+n2+n3) / 3\n",
        "print (media)"
      ],
      "metadata": {
        "colab": {
          "base_uri": "https://localhost:8080/"
        },
        "id": "2hjtCF_zznM3",
        "outputId": "8017bf7d-1163-4ac2-a900-682d86834719"
      },
      "execution_count": 27,
      "outputs": [
        {
          "output_type": "stream",
          "name": "stdout",
          "text": [
            "6.666666666666667\n"
          ]
        }
      ]
    },
    {
      "cell_type": "code",
      "source": [
        "#calculo idade\n",
        "anoNascim = 2001\n",
        "print (2023 - 2001)"
      ],
      "metadata": {
        "colab": {
          "base_uri": "https://localhost:8080/"
        },
        "id": "MWVb0zLx1_p8",
        "outputId": "6d4a870c-3563-42eb-9ed2-be707eb77544"
      },
      "execution_count": 28,
      "outputs": [
        {
          "output_type": "stream",
          "name": "stdout",
          "text": [
            "22\n"
          ]
        }
      ]
    },
    {
      "cell_type": "code",
      "source": [
        "#Trabalhando inputs\n",
        "nome = input ('Digite seu nome:')\n",
        "print('Olá ' +nome)"
      ],
      "metadata": {
        "colab": {
          "base_uri": "https://localhost:8080/"
        },
        "id": "7WP3YxNW2RSq",
        "outputId": "771ddacc-3558-4476-d33b-5d0fdfd515bc"
      },
      "execution_count": 41,
      "outputs": [
        {
          "output_type": "stream",
          "name": "stdout",
          "text": [
            "Digite seu nome:Lucas\n",
            "Olá Lucas\n"
          ]
        }
      ]
    },
    {
      "cell_type": "code",
      "source": [
        "#inputs 2.0\n",
        "nome = input ('Digite seu nome: ')\n",
        "input ('Digite sua idade: ')\n",
        "input ('Digite seu telefone: ')\n",
        "print ('Parabéns, dados cadastrados!!')\n",
        "878787"
      ],
      "metadata": {
        "colab": {
          "base_uri": "https://localhost:8080/"
        },
        "id": "rthwADUK2-HQ",
        "outputId": "e8c73481-bc58-43ff-fb21-03924f5d7959"
      },
      "execution_count": 58,
      "outputs": [
        {
          "output_type": "stream",
          "name": "stdout",
          "text": [
            "Digite seu nome: 8788\n",
            "Digite sua idade: 788787\n",
            "Digite seu telefone: 78887\n",
            "Parabéns, dados cadastrados!!\n"
          ]
        }
      ]
    },
    {
      "cell_type": "code",
      "source": [
        "#multicação de numero\n",
        "num = int(input('Digite um número: '))\n",
        "print(num*6)"
      ],
      "metadata": {
        "colab": {
          "base_uri": "https://localhost:8080/"
        },
        "id": "hUbteOqZ4k_O",
        "outputId": "140f9b2e-6235-4fbc-ec66-694d65f1faae"
      },
      "execution_count": 51,
      "outputs": [
        {
          "output_type": "stream",
          "name": "stdout",
          "text": [
            "Digite um número: 32433\n",
            "194598\n"
          ]
        }
      ]
    }
  ]
}